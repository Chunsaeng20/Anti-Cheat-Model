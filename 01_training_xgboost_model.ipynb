{
  "nbformat": 4,
  "nbformat_minor": 0,
  "metadata": {
    "colab": {
      "provenance": []
    },
    "kernelspec": {
      "name": "python3",
      "display_name": "Python 3"
    },
    "language_info": {
      "name": "python"
    }
  },
  "cells": [
    {
      "cell_type": "markdown",
      "source": [
        "# 치터 판별 XGBoost 모델 학습\n",
        "\n",
        "Optical Flow로 추출된 프레임 데이터를 전처리하고, **해당 영상의 플레이어가 치터인지 아닌지 판별**하는 XGBoost 이진 분류 모델을 학습\n",
        "\n",
        "---\n",
        "\n",
        "### 주요 동작 흐름\n",
        "\n",
        "1.  **데이터 로드**:\n",
        "    * 일반 유저와 치터의 데이터가 담긴 Excel 파일을 각각 로드\n",
        "2.  **데이터 전처리**:\n",
        "    * 각 데이터에 치트 여부를 나타내는 라벨을 추가\n",
        "    * 모델 학습에 사용할 주요 특징을 정의\n",
        "    * 데이터를 학습용과 검증용으로 분할\n",
        "3.  **XGBoost 모델 학습**:\n",
        "    * 클래스 불균형 문제를 완화하기 위해 파라미터를 적용\n",
        "    * 하이퍼파라미터를 설정하고, 모델을 학습\n",
        "4.  **모델 성능 평가**:\n",
        "    * 학습된 모델의 성능을 평가\n",
        "\n",
        "---\n",
        "\n",
        "### 핵심 포인트\n",
        "\n",
        "* **입력 데이터**: 각 프레임 단위로 계산된 에임의 위치 변화량, 속도, 가속도 등을 사용\n",
        "* **특징 정의**: 프레임 데이터를 전처리하여 모델 학습에 사용할 수 있도록 재정의\n",
        "* **클래스 불균형 처리**: 데이터셋에 치터보다 일반 유저가 훨씬 많기 때문에, 소수 클래스에 더 높은 가중치를 부여하여 모델이 치터 데이터를 더 중요하게 학습하도록 유도"
      ],
      "metadata": {
        "id": "pHh-RZSL-qCi"
      }
    },
    {
      "cell_type": "markdown",
      "source": [
        "## 라이브러리 설치"
      ],
      "metadata": {
        "id": "N54qAIEzCXHZ"
      }
    },
    {
      "cell_type": "code",
      "source": [
        "!pip install xgboost shap pandas scikit-learn openpyxl"
      ],
      "metadata": {
        "id": "NkyftItR2Wg5"
      },
      "execution_count": null,
      "outputs": []
    },
    {
      "cell_type": "code",
      "source": [
        "import xgboost as xgb\n",
        "import pandas as pd\n",
        "import numpy as np\n",
        "import os\n",
        "import matplotlib.pyplot as plt\n",
        "from sklearn.model_selection import train_test_split\n",
        "from sklearn.metrics import accuracy_score, confusion_matrix, classification_report, roc_auc_score, roc_curve, average_precision_score\n",
        "from google.colab import drive"
      ],
      "metadata": {
        "id": "SBeC9ji1VoCz"
      },
      "execution_count": null,
      "outputs": []
    },
    {
      "cell_type": "code",
      "source": [
        "drive.mount('/content/drive')"
      ],
      "metadata": {
        "id": "ldZlUHWYaEuU"
      },
      "execution_count": null,
      "outputs": []
    },
    {
      "cell_type": "markdown",
      "source": [
        "## 데이터 로드"
      ],
      "metadata": {
        "id": "puieeTwPCt6u"
      }
    },
    {
      "cell_type": "code",
      "source": [
        "# --- 엑셀 로드 ---\n",
        "df_human = pd.read_excel(\"/content/drive/MyDrive/Preprocessed_Dataset/aim_analysis_human.xlsx\")  # 사람 데이터 엑셀 경로 지정\n",
        "df_cheat = pd.read_excel(\"/content/drive/MyDrive/Preprocessed_Dataset/aim_analysis_cheat.xlsx\") # 치트 데이터 엑셀 경로 지정\n",
        "\n",
        "# --- 치트 라벨 추가 ---\n",
        "# 사람 데이터프레임에 모든 행에 'cheat' 컬럼을 추가하고 값을 0으로 설정\n",
        "df_human['cheat'] = 0\n",
        "# 치트 데이터프레임의 모든 행에 'cheat' 컬럼을 추가하고 값을 1로 설정\n",
        "df_cheat['cheat'] = 1"
      ],
      "metadata": {
        "id": "aTVSf6-LCyVA"
      },
      "execution_count": null,
      "outputs": []
    },
    {
      "cell_type": "markdown",
      "source": [
        "## 데이터 전처리"
      ],
      "metadata": {
        "id": "d3FYPhCHDKdK"
      }
    },
    {
      "cell_type": "code",
      "source": [
        "# 두 데이터프레임을 하나로 합침\n",
        "df = pd.concat([df_human, df_cheat], ignore_index=True)\n",
        "\n",
        "###\n",
        "# 영상마다 프레임별로 나뉜 데이터를 묶어야 함\n",
        "#   프레임 별 피처\n",
        "#   - 위치 변화량(dx, dy), 속도(velocity), 가속도(acceleration), (jerk), (angle_deg), (angle_change)\n",
        "#   요약 피처\n",
        "#   - 평균(mean), 표준 편차(std), 최솟값(min), 최댓값(max), 중앙값(median), 이상값 비율\n",
        "###\n",
        "\n",
        "# 피처 및 라벨 분리\n",
        "feature_cols = ['dx', 'dy', 'velocity', 'acceleration', 'jerk', 'angle_deg', 'angle_change']\n",
        "X = df[feature_cols]\n",
        "y = df['cheat'] # 'cheat' 컬럼을 라벨로 사용\n",
        "\n",
        "# 학습/검증 분할\n",
        "X_train, X_val, y_train, y_val = train_test_split(\n",
        "    X, y, test_size=0.2, stratify=y, random_state=42\n",
        ")\n",
        "\n",
        "print(\"Data loaded and labels created:\")\n",
        "print(\"X_train shape:\", X_train.shape)\n",
        "print(\"y_train shape:\", y_train.shape)\n",
        "print(\"X_val shape:\", X_val.shape)\n",
        "print(\"y_val shape:\", y_val.shape)\n",
        "print(\"\\nClass distribution in y_train:\")\n",
        "print(y_train.value_counts())"
      ],
      "metadata": {
        "colab": {
          "base_uri": "https://localhost:8080/"
        },
        "id": "NUUenB9pWHWv",
        "outputId": "1e8cb767-8616-4b42-decf-a8a586d107b1"
      },
      "execution_count": null,
      "outputs": [
        {
          "output_type": "stream",
          "name": "stdout",
          "text": [
            "Data loaded and labels created:\n",
            "X_train shape: (162974, 7)\n",
            "y_train shape: (162974,)\n",
            "X_val shape: (40744, 7)\n",
            "y_val shape: (40744,)\n",
            "\n",
            "Class distribution in y_train:\n",
            "cheat\n",
            "0    146835\n",
            "1     16139\n",
            "Name: count, dtype: int64\n"
          ]
        }
      ]
    },
    {
      "cell_type": "code",
      "source": [
        "df.shape # 데이터 행과 열\n",
        "df.columns # 데이터 열 종류\n",
        "df.info() # 데이터 정보"
      ],
      "metadata": {
        "colab": {
          "base_uri": "https://localhost:8080/"
        },
        "id": "A-_PpbMnZH1K",
        "outputId": "82291515-4587-4422-9de6-585a265a6067"
      },
      "execution_count": null,
      "outputs": [
        {
          "output_type": "stream",
          "name": "stdout",
          "text": [
            "<class 'pandas.core.frame.DataFrame'>\n",
            "RangeIndex: 203718 entries, 0 to 203717\n",
            "Data columns (total 10 columns):\n",
            " #   Column        Non-Null Count   Dtype  \n",
            "---  ------        --------------   -----  \n",
            " 0   filename      203718 non-null  object \n",
            " 1   frame         203718 non-null  int64  \n",
            " 2   dx            203718 non-null  float64\n",
            " 3   dy            203718 non-null  float64\n",
            " 4   velocity      203718 non-null  float64\n",
            " 5   acceleration  203462 non-null  float64\n",
            " 6   jerk          203206 non-null  float64\n",
            " 7   angle_deg     203718 non-null  float64\n",
            " 8   angle_change  203462 non-null  float64\n",
            " 9   cheat         203718 non-null  int64  \n",
            "dtypes: float64(7), int64(2), object(1)\n",
            "memory usage: 15.5+ MB\n"
          ]
        }
      ]
    },
    {
      "cell_type": "markdown",
      "source": [
        "## XGBoost 모델 학습"
      ],
      "metadata": {
        "id": "og81fLdXDjct"
      }
    },
    {
      "cell_type": "code",
      "source": [
        "# --- 모델 학습 ---\n",
        "\n",
        "###\n",
        "# 하이퍼 파라미터\n",
        "#   max_depth\n",
        "#   min_child_weight\n",
        "#   gamma\n",
        "#   leraning_rate\n",
        "#   n_estimators\n",
        "#   subsample\n",
        "#   colsample_bytree\n",
        "#\n",
        "# 최적 조합 찾기\n",
        "#   GridSearchCV\n",
        "#   RandomizedSearchCV\n",
        "###\n",
        "\n",
        "# 클래스 불균형 고려\n",
        "pos = (y_train == 1).sum()\n",
        "neg = (y_train == 0).sum()\n",
        "scale_pos_weight = neg / max(pos, 1)\n",
        "\n",
        "model = xgb.XGBClassifier(\n",
        "    n_estimators=400,\n",
        "    max_depth=6,\n",
        "    learning_rate=0.05,\n",
        "    subsample=0.8,\n",
        "    colsample_bytree=0.8,\n",
        "    reg_lambda=1.0,\n",
        "    objective=\"binary:logistic\",\n",
        "    eval_metric=\"auc\",\n",
        "    scale_pos_weight=scale_pos_weight,\n",
        "    random_state=42,\n",
        "    n_jobs=-1\n",
        ")\n",
        "\n",
        "model.fit(X_train, y_train, eval_set=[(X_val, y_val)], verbose=False)"
      ],
      "metadata": {
        "colab": {
          "base_uri": "https://localhost:8080/"
        },
        "id": "ah5RXHfkWjZc",
        "outputId": "6a50f875-cd95-43bd-c8ab-cea92c71ea53"
      },
      "execution_count": null,
      "outputs": [
        {
          "output_type": "stream",
          "name": "stdout",
          "text": [
            "ROC-AUC: 0.785913873752315\n",
            "PR-AUC : 0.3491153093914882\n"
          ]
        }
      ]
    },
    {
      "cell_type": "code",
      "source": [
        "# --- 모델을 저장할 경로 지정 ---\n",
        "model_save_path = \"/content/drive/MyDrive/Preprocessed_Dataset/\"\n",
        "model_name = \"xgboost_cheater_detection_model.json\"\n",
        "full_model_path = os.path.join(model_save_path, model_name)\n",
        "\n",
        "# --- 모델 저장 ---\n",
        "os.makedirs(model_save_path, exist_ok=True)\n",
        "model.save_model(full_model_path)\n",
        "\n",
        "print(f\"모델이 성공적으로 저장되었습니다.\")\n",
        "print(f\"저장 경로: \" {full_model_path})"
      ],
      "metadata": {
        "id": "-QKZWE0AZelL"
      },
      "execution_count": null,
      "outputs": []
    },
    {
      "cell_type": "markdown",
      "source": [
        "## 모델 성능 평가"
      ],
      "metadata": {
        "id": "9MojYTLQDpnW"
      }
    },
    {
      "cell_type": "code",
      "source": [
        "# --- 모델 성능 평가 ---\n",
        "\n",
        "val_proba = model.predict_proba(X_val)[:, 1]\n",
        "print(\"ROC-AUC:\", roc_auc_score(y_val, val_proba))\n",
        "print(\"PR-AUC :\", average_precision_score(y_val, val_proba))\n",
        "\n",
        "# --- 정확도 ---\n",
        "\n",
        "# --- 혼동 행렬 ---\n",
        "\n",
        "# --- 분류 리포트 ---\n",
        "\n",
        "# --- ROC-AUC 점수 및 곡선 ---"
      ],
      "metadata": {
        "id": "LPiXjdCnDrg8"
      },
      "execution_count": null,
      "outputs": []
    }
  ]
}