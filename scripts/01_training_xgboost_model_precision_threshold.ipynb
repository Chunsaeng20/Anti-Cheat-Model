{
  "nbformat": 4,
  "nbformat_minor": 0,
  "metadata": {
    "colab": {
      "provenance": [],
      "machine_shape": "hm",
      "gpuType": "T4"
    },
    "kernelspec": {
      "name": "python3",
      "display_name": "Python 3"
    },
    "language_info": {
      "name": "python"
    },
    "accelerator": "GPU"
  },
  "cells": [
    {
      "cell_type": "markdown",
      "source": [
        "# 치터 판별 XGBoost 모델 학습\n",
        "\n",
        "Optical Flow로 추출된 프레임 데이터를 전처리하고, **해당 영상의 플레이어가 치터인지 아닌지 판별**하는 XGBoost 이진 분류 모델을 학습\n",
        "\n",
        "---\n",
        "\n",
        "### 주요 동작 흐름\n",
        "\n",
        "1.  **데이터 로드**:\n",
        "    * 일반 유저와 치터의 데이터가 담긴 Excel 파일을 각각 로드\n",
        "2.  **데이터 전처리**:\n",
        "    * 각 데이터에 치트 여부를 나타내는 라벨을 추가\n",
        "    * 모델 학습에 사용할 주요 특징을 정의\n",
        "    * 데이터를 학습용과 검증용으로 분할\n",
        "3.  **XGBoost 모델 학습**:\n",
        "    * 클래스 불균형 문제를 완화하기 위해 파라미터를 적용\n",
        "    * 하이퍼파라미터를 설정하고, 모델을 학습\n",
        "4.  **모델 성능 평가**:\n",
        "    * 학습된 모델의 성능을 평가\n",
        "\n",
        "---\n",
        "\n",
        "### 핵심 포인트\n",
        "\n",
        "* **입력 데이터**: 각 프레임 단위로 계산된 에임의 위치 변화량, 속도, 가속도 등을 사용\n",
        "* **특징 정의**: 프레임 데이터를 전처리하여 모델 학습에 사용할 수 있도록 재정의\n",
        "* **클래스 불균형 처리**: 데이터셋에 치터보다 일반 유저가 훨씬 많기 때문에, 소수 클래스에 더 높은 가중치를 부여하여 모델이 치터 데이터를 더 중요하게 학습하도록 유도"
      ],
      "metadata": {
        "id": "pHh-RZSL-qCi"
      }
    },
    {
      "cell_type": "markdown",
      "source": [
        "## 라이브러리 설치"
      ],
      "metadata": {
        "id": "N54qAIEzCXHZ"
      }
    },
    {
      "cell_type": "code",
      "source": [
        "!pip install xgboost==3.0.5 shap pandas scikit-learn openpyxl"
      ],
      "metadata": {
        "id": "NkyftItR2Wg5",
        "colab": {
          "base_uri": "https://localhost:8080/"
        },
        "outputId": "3131468f-227e-46cf-c26e-fff87d755c3b"
      },
      "execution_count": null,
      "outputs": [
        {
          "output_type": "stream",
          "name": "stdout",
          "text": [
            "Collecting xgboost==3.0.5\n",
            "  Downloading xgboost-3.0.5-py3-none-manylinux_2_28_x86_64.whl.metadata (2.1 kB)\n",
            "Requirement already satisfied: shap in /usr/local/lib/python3.12/dist-packages (0.49.1)\n",
            "Requirement already satisfied: pandas in /usr/local/lib/python3.12/dist-packages (2.2.2)\n",
            "Requirement already satisfied: scikit-learn in /usr/local/lib/python3.12/dist-packages (1.6.1)\n",
            "Requirement already satisfied: openpyxl in /usr/local/lib/python3.12/dist-packages (3.1.5)\n",
            "Requirement already satisfied: numpy in /usr/local/lib/python3.12/dist-packages (from xgboost==3.0.5) (2.0.2)\n",
            "Requirement already satisfied: nvidia-nccl-cu12 in /usr/local/lib/python3.12/dist-packages (from xgboost==3.0.5) (2.27.3)\n",
            "Requirement already satisfied: scipy in /usr/local/lib/python3.12/dist-packages (from xgboost==3.0.5) (1.16.2)\n",
            "Requirement already satisfied: tqdm>=4.27.0 in /usr/local/lib/python3.12/dist-packages (from shap) (4.67.1)\n",
            "Requirement already satisfied: packaging>20.9 in /usr/local/lib/python3.12/dist-packages (from shap) (25.0)\n",
            "Requirement already satisfied: slicer==0.0.8 in /usr/local/lib/python3.12/dist-packages (from shap) (0.0.8)\n",
            "Requirement already satisfied: numba>=0.54 in /usr/local/lib/python3.12/dist-packages (from shap) (0.60.0)\n",
            "Requirement already satisfied: cloudpickle in /usr/local/lib/python3.12/dist-packages (from shap) (3.1.1)\n",
            "Requirement already satisfied: typing-extensions in /usr/local/lib/python3.12/dist-packages (from shap) (4.15.0)\n",
            "Requirement already satisfied: python-dateutil>=2.8.2 in /usr/local/lib/python3.12/dist-packages (from pandas) (2.9.0.post0)\n",
            "Requirement already satisfied: pytz>=2020.1 in /usr/local/lib/python3.12/dist-packages (from pandas) (2025.2)\n",
            "Requirement already satisfied: tzdata>=2022.7 in /usr/local/lib/python3.12/dist-packages (from pandas) (2025.2)\n",
            "Requirement already satisfied: joblib>=1.2.0 in /usr/local/lib/python3.12/dist-packages (from scikit-learn) (1.5.2)\n",
            "Requirement already satisfied: threadpoolctl>=3.1.0 in /usr/local/lib/python3.12/dist-packages (from scikit-learn) (3.6.0)\n",
            "Requirement already satisfied: et-xmlfile in /usr/local/lib/python3.12/dist-packages (from openpyxl) (2.0.0)\n",
            "Requirement already satisfied: llvmlite<0.44,>=0.43.0dev0 in /usr/local/lib/python3.12/dist-packages (from numba>=0.54->shap) (0.43.0)\n",
            "Requirement already satisfied: six>=1.5 in /usr/local/lib/python3.12/dist-packages (from python-dateutil>=2.8.2->pandas) (1.17.0)\n",
            "Downloading xgboost-3.0.5-py3-none-manylinux_2_28_x86_64.whl (94.9 MB)\n",
            "\u001b[2K   \u001b[90m━━━━━━━━━━━━━━━━━━━━━━━━━━━━━━━━━━━━━━━━\u001b[0m \u001b[32m94.9/94.9 MB\u001b[0m \u001b[31m29.0 MB/s\u001b[0m eta \u001b[36m0:00:00\u001b[0m\n",
            "\u001b[?25hInstalling collected packages: xgboost\n",
            "  Attempting uninstall: xgboost\n",
            "    Found existing installation: xgboost 3.1.0\n",
            "    Uninstalling xgboost-3.1.0:\n",
            "      Successfully uninstalled xgboost-3.1.0\n",
            "Successfully installed xgboost-3.0.5\n"
          ]
        }
      ]
    },
    {
      "cell_type": "code",
      "source": [
        "import xgboost as xgb\n",
        "import seaborn as sns\n",
        "import pandas as pd\n",
        "import numpy as np\n",
        "import itertools\n",
        "import joblib\n",
        "import os\n",
        "import matplotlib.pyplot as plt\n",
        "from sklearn.model_selection import train_test_split, RandomizedSearchCV, GroupShuffleSplit\n",
        "from sklearn.metrics import accuracy_score, confusion_matrix, classification_report, roc_auc_score, roc_curve, average_precision_score, precision_recall_curve\n",
        "from google.colab import drive\n",
        "from scipy.stats import entropy, randint, uniform"
      ],
      "metadata": {
        "id": "SBeC9ji1VoCz"
      },
      "execution_count": null,
      "outputs": []
    },
    {
      "cell_type": "code",
      "source": [
        "drive.mount('/content/drive')"
      ],
      "metadata": {
        "id": "ldZlUHWYaEuU",
        "colab": {
          "base_uri": "https://localhost:8080/"
        },
        "outputId": "d522b134-e8d8-4789-9a7d-a55f49285239"
      },
      "execution_count": null,
      "outputs": [
        {
          "output_type": "stream",
          "name": "stdout",
          "text": [
            "Mounted at /content/drive\n"
          ]
        }
      ]
    },
    {
      "cell_type": "markdown",
      "source": [
        "## 데이터 로드"
      ],
      "metadata": {
        "id": "puieeTwPCt6u"
      }
    },
    {
      "cell_type": "code",
      "source": [
        "# --- 불러올 데이터의 경로 지정 ---\n",
        "human_data_path = \"/content/drive/MyDrive/Preprocessed_Dataset/aim_analysis_human.xlsx\" # 사람 데이터 엑셀 경로 지정\n",
        "cheat_data_path = \"/content/drive/MyDrive/Preprocessed_Dataset/aim_analysis_cheat.xlsx\" # 치트 데이터 엑셀 경로 지정\n",
        "\n",
        "# --- 엑셀 로드 ---\n",
        "df_human = pd.read_excel(human_data_path)\n",
        "df_cheat = pd.read_excel(cheat_data_path)\n",
        "\n",
        "# --- 치트 라벨 추가 ---\n",
        "df_human['cheat'] = 0 # 사람 데이터프레임에 모든 행에 'cheat' 컬럼을 추가하고 값을 0으로 설정\n",
        "df_cheat['cheat'] = 1 # 치트 데이터프레임의 모든 행에 'cheat' 컬럼을 추가하고 값을 1로 설정"
      ],
      "metadata": {
        "id": "aTVSf6-LCyVA"
      },
      "execution_count": null,
      "outputs": []
    },
    {
      "cell_type": "code",
      "source": [
        "# 두 데이터프레임을 하나로 합침\n",
        "df_concat = pd.concat([df_human, df_cheat], ignore_index=True)\n",
        "\n",
        "print(\"--- df_concat 예시 ---\")\n",
        "df_concat.iloc[[0]]"
      ],
      "metadata": {
        "id": "8TqzuUFz6boM",
        "colab": {
          "base_uri": "https://localhost:8080/",
          "height": 99
        },
        "outputId": "c27ac3b0-4919-4b25-e024-f47c91aba475"
      },
      "execution_count": null,
      "outputs": [
        {
          "output_type": "stream",
          "name": "stdout",
          "text": [
            "--- df_concat 예시 ---\n"
          ]
        },
        {
          "output_type": "execute_result",
          "data": {
            "text/plain": [
              "                                           filename  frame        dx  \\\n",
              "0  videos/01701665-2d22-4a6c-99e0-f36fa91395cf.webm      0  9.003283   \n",
              "\n",
              "         dy  velocity  acceleration  jerk  angle_deg  angle_change  cheat  \n",
              "0 -0.420831  9.013113           NaN   NaN  -2.676168           NaN      0  "
            ],
            "text/html": [
              "\n",
              "  <div id=\"df-1cd6255d-cd0c-433e-84d6-9eeab184840f\" class=\"colab-df-container\">\n",
              "    <div>\n",
              "<style scoped>\n",
              "    .dataframe tbody tr th:only-of-type {\n",
              "        vertical-align: middle;\n",
              "    }\n",
              "\n",
              "    .dataframe tbody tr th {\n",
              "        vertical-align: top;\n",
              "    }\n",
              "\n",
              "    .dataframe thead th {\n",
              "        text-align: right;\n",
              "    }\n",
              "</style>\n",
              "<table border=\"1\" class=\"dataframe\">\n",
              "  <thead>\n",
              "    <tr style=\"text-align: right;\">\n",
              "      <th></th>\n",
              "      <th>filename</th>\n",
              "      <th>frame</th>\n",
              "      <th>dx</th>\n",
              "      <th>dy</th>\n",
              "      <th>velocity</th>\n",
              "      <th>acceleration</th>\n",
              "      <th>jerk</th>\n",
              "      <th>angle_deg</th>\n",
              "      <th>angle_change</th>\n",
              "      <th>cheat</th>\n",
              "    </tr>\n",
              "  </thead>\n",
              "  <tbody>\n",
              "    <tr>\n",
              "      <th>0</th>\n",
              "      <td>videos/01701665-2d22-4a6c-99e0-f36fa91395cf.webm</td>\n",
              "      <td>0</td>\n",
              "      <td>9.003283</td>\n",
              "      <td>-0.420831</td>\n",
              "      <td>9.013113</td>\n",
              "      <td>NaN</td>\n",
              "      <td>NaN</td>\n",
              "      <td>-2.676168</td>\n",
              "      <td>NaN</td>\n",
              "      <td>0</td>\n",
              "    </tr>\n",
              "  </tbody>\n",
              "</table>\n",
              "</div>\n",
              "    <div class=\"colab-df-buttons\">\n",
              "\n",
              "  <div class=\"colab-df-container\">\n",
              "    <button class=\"colab-df-convert\" onclick=\"convertToInteractive('df-1cd6255d-cd0c-433e-84d6-9eeab184840f')\"\n",
              "            title=\"Convert this dataframe to an interactive table.\"\n",
              "            style=\"display:none;\">\n",
              "\n",
              "  <svg xmlns=\"http://www.w3.org/2000/svg\" height=\"24px\" viewBox=\"0 -960 960 960\">\n",
              "    <path d=\"M120-120v-720h720v720H120Zm60-500h600v-160H180v160Zm220 220h160v-160H400v160Zm0 220h160v-160H400v160ZM180-400h160v-160H180v160Zm440 0h160v-160H620v160ZM180-180h160v-160H180v160Zm440 0h160v-160H620v160Z\"/>\n",
              "  </svg>\n",
              "    </button>\n",
              "\n",
              "  <style>\n",
              "    .colab-df-container {\n",
              "      display:flex;\n",
              "      gap: 12px;\n",
              "    }\n",
              "\n",
              "    .colab-df-convert {\n",
              "      background-color: #E8F0FE;\n",
              "      border: none;\n",
              "      border-radius: 50%;\n",
              "      cursor: pointer;\n",
              "      display: none;\n",
              "      fill: #1967D2;\n",
              "      height: 32px;\n",
              "      padding: 0 0 0 0;\n",
              "      width: 32px;\n",
              "    }\n",
              "\n",
              "    .colab-df-convert:hover {\n",
              "      background-color: #E2EBFA;\n",
              "      box-shadow: 0px 1px 2px rgba(60, 64, 67, 0.3), 0px 1px 3px 1px rgba(60, 64, 67, 0.15);\n",
              "      fill: #174EA6;\n",
              "    }\n",
              "\n",
              "    .colab-df-buttons div {\n",
              "      margin-bottom: 4px;\n",
              "    }\n",
              "\n",
              "    [theme=dark] .colab-df-convert {\n",
              "      background-color: #3B4455;\n",
              "      fill: #D2E3FC;\n",
              "    }\n",
              "\n",
              "    [theme=dark] .colab-df-convert:hover {\n",
              "      background-color: #434B5C;\n",
              "      box-shadow: 0px 1px 3px 1px rgba(0, 0, 0, 0.15);\n",
              "      filter: drop-shadow(0px 1px 2px rgba(0, 0, 0, 0.3));\n",
              "      fill: #FFFFFF;\n",
              "    }\n",
              "  </style>\n",
              "\n",
              "    <script>\n",
              "      const buttonEl =\n",
              "        document.querySelector('#df-1cd6255d-cd0c-433e-84d6-9eeab184840f button.colab-df-convert');\n",
              "      buttonEl.style.display =\n",
              "        google.colab.kernel.accessAllowed ? 'block' : 'none';\n",
              "\n",
              "      async function convertToInteractive(key) {\n",
              "        const element = document.querySelector('#df-1cd6255d-cd0c-433e-84d6-9eeab184840f');\n",
              "        const dataTable =\n",
              "          await google.colab.kernel.invokeFunction('convertToInteractive',\n",
              "                                                    [key], {});\n",
              "        if (!dataTable) return;\n",
              "\n",
              "        const docLinkHtml = 'Like what you see? Visit the ' +\n",
              "          '<a target=\"_blank\" href=https://colab.research.google.com/notebooks/data_table.ipynb>data table notebook</a>'\n",
              "          + ' to learn more about interactive tables.';\n",
              "        element.innerHTML = '';\n",
              "        dataTable['output_type'] = 'display_data';\n",
              "        await google.colab.output.renderOutput(dataTable, element);\n",
              "        const docLink = document.createElement('div');\n",
              "        docLink.innerHTML = docLinkHtml;\n",
              "        element.appendChild(docLink);\n",
              "      }\n",
              "    </script>\n",
              "  </div>\n",
              "\n",
              "\n",
              "    </div>\n",
              "  </div>\n"
            ],
            "application/vnd.google.colaboratory.intrinsic+json": {
              "type": "dataframe",
              "summary": "{\n  \"name\": \"df_concat\",\n  \"rows\": 1,\n  \"fields\": [\n    {\n      \"column\": \"filename\",\n      \"properties\": {\n        \"dtype\": \"string\",\n        \"num_unique_values\": 1,\n        \"samples\": [\n          \"videos/01701665-2d22-4a6c-99e0-f36fa91395cf.webm\"\n        ],\n        \"semantic_type\": \"\",\n        \"description\": \"\"\n      }\n    },\n    {\n      \"column\": \"frame\",\n      \"properties\": {\n        \"dtype\": \"number\",\n        \"std\": null,\n        \"min\": 0,\n        \"max\": 0,\n        \"num_unique_values\": 1,\n        \"samples\": [\n          0\n        ],\n        \"semantic_type\": \"\",\n        \"description\": \"\"\n      }\n    },\n    {\n      \"column\": \"dx\",\n      \"properties\": {\n        \"dtype\": \"number\",\n        \"std\": null,\n        \"min\": 9.00328254699707,\n        \"max\": 9.00328254699707,\n        \"num_unique_values\": 1,\n        \"samples\": [\n          9.00328254699707\n        ],\n        \"semantic_type\": \"\",\n        \"description\": \"\"\n      }\n    },\n    {\n      \"column\": \"dy\",\n      \"properties\": {\n        \"dtype\": \"number\",\n        \"std\": null,\n        \"min\": -0.4208308458328247,\n        \"max\": -0.4208308458328247,\n        \"num_unique_values\": 1,\n        \"samples\": [\n          -0.4208308458328247\n        ],\n        \"semantic_type\": \"\",\n        \"description\": \"\"\n      }\n    },\n    {\n      \"column\": \"velocity\",\n      \"properties\": {\n        \"dtype\": \"number\",\n        \"std\": null,\n        \"min\": 9.013113021850586,\n        \"max\": 9.013113021850586,\n        \"num_unique_values\": 1,\n        \"samples\": [\n          9.013113021850586\n        ],\n        \"semantic_type\": \"\",\n        \"description\": \"\"\n      }\n    },\n    {\n      \"column\": \"acceleration\",\n      \"properties\": {\n        \"dtype\": \"number\",\n        \"std\": null,\n        \"min\": null,\n        \"max\": null,\n        \"num_unique_values\": 0,\n        \"samples\": [],\n        \"semantic_type\": \"\",\n        \"description\": \"\"\n      }\n    },\n    {\n      \"column\": \"jerk\",\n      \"properties\": {\n        \"dtype\": \"number\",\n        \"std\": null,\n        \"min\": null,\n        \"max\": null,\n        \"num_unique_values\": 0,\n        \"samples\": [],\n        \"semantic_type\": \"\",\n        \"description\": \"\"\n      }\n    },\n    {\n      \"column\": \"angle_deg\",\n      \"properties\": {\n        \"dtype\": \"number\",\n        \"std\": null,\n        \"min\": -2.676167726516724,\n        \"max\": -2.676167726516724,\n        \"num_unique_values\": 1,\n        \"samples\": [],\n        \"semantic_type\": \"\",\n        \"description\": \"\"\n      }\n    },\n    {\n      \"column\": \"angle_change\",\n      \"properties\": {\n        \"dtype\": \"number\",\n        \"std\": null,\n        \"min\": null,\n        \"max\": null,\n        \"num_unique_values\": 0,\n        \"samples\": [],\n        \"semantic_type\": \"\",\n        \"description\": \"\"\n      }\n    },\n    {\n      \"column\": \"cheat\",\n      \"properties\": {\n        \"dtype\": \"number\",\n        \"std\": null,\n        \"min\": 0,\n        \"max\": 0,\n        \"num_unique_values\": 1,\n        \"samples\": [],\n        \"semantic_type\": \"\",\n        \"description\": \"\"\n      }\n    }\n  ]\n}"
            }
          },
          "metadata": {},
          "execution_count": 5
        }
      ]
    },
    {
      "cell_type": "code",
      "source": [
        "# 'filename'을 기준으로 데이터를 그룹화\n",
        "df_grouped = df_concat.groupby('filename')\n",
        "\n",
        "print(f\"총 {len(df_grouped)}개의 고유한 파일이 있습니다.\")"
      ],
      "metadata": {
        "colab": {
          "base_uri": "https://localhost:8080/"
        },
        "id": "uDYX22Me1omw",
        "outputId": "6f6bfbdb-2425-4ecb-8928-2e5b9a144ee2"
      },
      "execution_count": null,
      "outputs": [
        {
          "output_type": "stream",
          "name": "stdout",
          "text": [
            "총 256개의 고유한 파일이 있습니다.\n"
          ]
        }
      ]
    },
    {
      "cell_type": "markdown",
      "source": [
        "## 데이터 전처리"
      ],
      "metadata": {
        "id": "d3FYPhCHDKdK"
      }
    },
    {
      "cell_type": "code",
      "source": [
        "'''\n",
        "[영상 마다 프레임별로 나뉜 데이터를 묶어야 함]\n",
        "  * 원본 특징\n",
        "    : 파일 이름(filename), 프레임(frame), 위치 변화량(dx, dy), 속도(velocity), 가속도(acceleration),\n",
        "      가가속도(jerk), 각도(angle_deg), 각도 변화량(angle_change), 치트 여부(cheat)\n",
        "\n",
        "  * 요약 특징\n",
        "    : 평균(mean), 중앙값(median), 최빈값(mode), 범위(range), 표준편차(std),\n",
        "      사분위수 범위(IQR), 최댓값(max), 최솟값(min), 왜도(skewness), 첨도(kurtosis),\n",
        "      영점 교차율(zero-crossing rate), 엔트로피(entropy), 상관계수(correlation)\n",
        "\n",
        "  데이터 한 묶음  : 150프레임 (30프레임 5초)\n",
        "  시계열 데이터   : 이전 데이터와 4초(120프레임)씩 겹침 (30초 영상 기준 데이터 26개 생성)\n",
        "'''\n",
        "\n",
        "# 파라미터 설정\n",
        "WINDOW_SIZE = 150  # 150 프레임 (5초)\n",
        "STEP_SIZE = 30     # 30 프레임 (1초) 만큼 이동 (120 프레임 겹침)\n",
        "ENTROPY_BINS = 10  # 엔트로피 계산 시 데이터를 나눌 구간(bin) 수\n",
        "\n",
        "# 요약할 원본 특징 리스트\n",
        "features_origin_list = ['dx', 'dy', 'velocity', 'acceleration', 'jerk', 'angle_deg', 'angle_change']\n",
        "\n",
        "# 요약 특징 청크(chunk)를 저장할 리스트\n",
        "all_video_chunks = []\n",
        "\n",
        "# 각 영상(파일)별로 반복 처리\n",
        "for filename, video_data in df_grouped:\n",
        "\n",
        "    # 해당 영상의 총 프레임 수\n",
        "    n_frames = len(video_data)\n",
        "\n",
        "    # 슬라이딩 윈도우 적용\n",
        "    # 0 프레임부터 (총 프레임 - 윈도우 크기)까지 STEP_SIZE 만큼 이동\n",
        "    # STEP_SIZE보다 적게 남은 데이터는 버림\n",
        "    for i in range(0, n_frames - WINDOW_SIZE + 1, STEP_SIZE):\n",
        "\n",
        "        # 150 프레임으로 구성된 현재 윈도우(청크)를 추출\n",
        "        chunk = video_data.iloc[i : i + WINDOW_SIZE]\n",
        "\n",
        "        # 현재 청크의 요약 특징을 저장할 딕셔너리\n",
        "        summary_stats = {}\n",
        "\n",
        "        # 기본 정보(파일이름, 치트여부) 추가\n",
        "        summary_stats['filename'] = filename\n",
        "        # cheat 값은 윈도우 내에서 동일하므로 첫 번째 값을 사용\n",
        "        summary_stats['cheat'] = chunk['cheat'].iloc[0]\n",
        "        summary_stats['start_frame'] = i\n",
        "\n",
        "        # --- 각 특징별로 요약 특징 계산 ---\n",
        "        for col in features_origin_list:\n",
        "            series = chunk[col] # 현재 청크의 해당 특징(Series)\n",
        "\n",
        "            # --- 요약 특징 계산 ---\n",
        "            summary_stats[f'{col}_mean'] = series.mean()          # 평균\n",
        "            summary_stats[f'{col}_median'] = series.median()      # 중앙값\n",
        "\n",
        "            # mode는 여러 개일 수 있으므로 첫 번째 값만 사용 (없으면 NaN)\n",
        "            mode_val = series.mode()\n",
        "            summary_stats[f'{col}_mode'] = mode_val.iloc[0] if not mode_val.empty else np.nan\n",
        "\n",
        "            s_max = series.max()\n",
        "            s_min = series.min()\n",
        "            summary_stats[f'{col}_range'] = s_max - s_min         # 범위\n",
        "            summary_stats[f'{col}_std'] = series.std()            # 표준편차\n",
        "\n",
        "            q75 = series.quantile(0.75)\n",
        "            q25 = series.quantile(0.25)\n",
        "            summary_stats[f'{col}_iqr'] = q75 - q25               # 사분위수 범위\n",
        "\n",
        "            summary_stats[f'{col}_max'] = s_max                   # 최댓값\n",
        "            summary_stats[f'{col}_min'] = s_min                   # 최솟값\n",
        "            summary_stats[f'{col}_skewness'] = series.skew()      # 왜도\n",
        "            summary_stats[f'{col}_kurtosis'] = series.kurtosis()  # 첨도\n",
        "\n",
        "            s_np = series.values\n",
        "            summary_stats[f'{col}_zcr'] = ((s_np[:-1] * s_np[1:]) < 0).sum() / WINDOW_SIZE  # 영점 교차율\n",
        "\n",
        "            # 데이터를 구간으로 나눔\n",
        "            binned_series = pd.cut(series, bins=ENTROPY_BINS, labels=False)\n",
        "            # 각 구간의 빈도수를 계산\n",
        "            value_counts = binned_series.value_counts(normalize=True)\n",
        "            summary_stats[f'{col}_entropy'] = entropy(value_counts)                         # 엔트로피\n",
        "\n",
        "        # --- 모든 특징 조합의 상관계수 계산 ---\n",
        "        for feat1, feat2 in itertools.combinations(features_origin_list, 2):\n",
        "            correlation = chunk[feat1].corr(chunk[feat2])\n",
        "\n",
        "            # 한쪽 값이 일정(std=0)하면 상관계수가 NaN이 됨 -> 0으로 처리\n",
        "            if pd.isna(correlation):\n",
        "                summary_stats[f'corr_{feat1}_{feat2}'] = 0\n",
        "            else:\n",
        "                summary_stats[f'corr_{feat1}_{feat2}'] = correlation\n",
        "\n",
        "        # 완성된 요약 특징 딕셔너리를 리스트에 추가\n",
        "        all_video_chunks.append(summary_stats)\n",
        "\n",
        "# 모든 청크 리스트를 하나의 새로운 DataFrame으로 변환\n",
        "df = pd.DataFrame(all_video_chunks)"
      ],
      "metadata": {
        "id": "I1sYBkVk6Wg2"
      },
      "execution_count": null,
      "outputs": []
    },
    {
      "cell_type": "code",
      "source": [
        "# --- 특징 및 라벨 분리 ---\n",
        "y = df['cheat']         # 'cheat' 열을 라벨로 사용\n",
        "groups = df['filename'] # 데이터를 나눌 기준 (파일 이름)\n",
        "non_feature_cols = ['filename', 'cheat', 'start_frame'] # 특징이 아닌 열들\n",
        "X = df.drop(columns=non_feature_cols)                   # 구별자를 제외하여 데이터셋 생성\n",
        "\n",
        "# --- GroupShuffleSplit 설정 ---\n",
        "# 영상(group)을 기준으로 8:2 분할, 1번만 실행\n",
        "gss = GroupShuffleSplit(n_splits=1, test_size=0.2, random_state=42)\n",
        "\n",
        "# --- 인덱스 분할 ---\n",
        "# X, y, groups를 넣으면 train/val로 나눌 인덱스를 반환\n",
        "train_idx, val_idx = next(gss.split(X, y, groups=groups))\n",
        "\n",
        "# --- 인덱스를 사용해 실제 데이터 분할 ---\n",
        "X_train = X.iloc[train_idx]\n",
        "y_train = y.iloc[train_idx]\n",
        "X_val = X.iloc[val_idx]\n",
        "y_val = y.iloc[val_idx]\n",
        "\n",
        "print(\"데이터셋 분할이 완료되었습니다:\")\n",
        "print(\"-\" * 30)\n",
        "print(f\"총 데이터 샘플(청크) 수: {len(X)}\")\n",
        "print(f\"총 특징(feature) 수: {X.shape[1]}\")\n",
        "print(\"-\" * 30)\n",
        "print(\"X_train shape (학습용 특징):\", X_train.shape)\n",
        "print(\"y_train shape (학습용 라벨):\", y_train.shape)\n",
        "print(\"X_val shape (검증용 특징):\", X_val.shape)\n",
        "print(\"y_val shape (검증용 라벨):\", y_val.shape)\n",
        "print(\"\\n--- 학습용(y_train) 라벨 분포 ---\")\n",
        "print(y_train.value_counts(normalize=True))\n",
        "print(\"\\n--- 검증용(y_val) 라벨 분포 ---\")\n",
        "print(y_val.value_counts(normalize=True))\n",
        "\n",
        "# --- 데이터 누수 방지 확인 ---\n",
        "train_files = set(df.iloc[train_idx]['filename'])\n",
        "val_files = set(df.iloc[val_idx]['filename'])\n",
        "overlapping_files = train_files.intersection(val_files)\n",
        "\n",
        "print(\"\\n\" + \"=\"*30)\n",
        "print(f\"학습셋 고유 파일 수: {len(train_files)}\")\n",
        "print(f\"검증셋 고유 파일 수: {len(val_files)}\")\n",
        "print(f\"겹치는 파일 수 : {len(overlapping_files)}\")\n",
        "print(\"=\"*30)"
      ],
      "metadata": {
        "id": "3pojYTWJ0rJV",
        "colab": {
          "base_uri": "https://localhost:8080/"
        },
        "outputId": "588da50f-dad8-46e4-b99b-51aef3891436"
      },
      "execution_count": null,
      "outputs": [
        {
          "output_type": "stream",
          "name": "stdout",
          "text": [
            "데이터셋 분할이 완료되었습니다:\n",
            "------------------------------\n",
            "총 데이터 샘플(청크) 수: 5569\n",
            "총 특징(feature) 수: 105\n",
            "------------------------------\n",
            "X_train shape (학습용 특징): (4457, 105)\n",
            "y_train shape (학습용 라벨): (4457,)\n",
            "X_val shape (검증용 특징): (1112, 105)\n",
            "y_val shape (검증용 라벨): (1112,)\n",
            "\n",
            "--- 학습용(y_train) 라벨 분포 ---\n",
            "cheat\n",
            "0    0.915863\n",
            "1    0.084137\n",
            "Name: proportion, dtype: float64\n",
            "\n",
            "--- 검증용(y_val) 라벨 분포 ---\n",
            "cheat\n",
            "0    0.841727\n",
            "1    0.158273\n",
            "Name: proportion, dtype: float64\n",
            "\n",
            "==============================\n",
            "학습셋 고유 파일 수: 204\n",
            "검증셋 고유 파일 수: 51\n",
            "겹치는 파일 수 : 0\n",
            "==============================\n"
          ]
        }
      ]
    },
    {
      "cell_type": "code",
      "source": [
        "df.shape    # 데이터 행과 열\n",
        "df.columns  # 데이터 열 종류\n",
        "df.info()   # 데이터 정보"
      ],
      "metadata": {
        "id": "A-_PpbMnZH1K",
        "colab": {
          "base_uri": "https://localhost:8080/"
        },
        "outputId": "0b8eac6b-d066-41b3-9913-c2fda23a4ac8"
      },
      "execution_count": null,
      "outputs": [
        {
          "output_type": "stream",
          "name": "stdout",
          "text": [
            "<class 'pandas.core.frame.DataFrame'>\n",
            "RangeIndex: 5569 entries, 0 to 5568\n",
            "Columns: 108 entries, filename to corr_angle_deg_angle_change\n",
            "dtypes: float64(105), int64(2), object(1)\n",
            "memory usage: 4.6+ MB\n"
          ]
        }
      ]
    },
    {
      "cell_type": "markdown",
      "source": [
        "## XGBoost 모델 학습"
      ],
      "metadata": {
        "id": "og81fLdXDjct"
      }
    },
    {
      "cell_type": "code",
      "source": [
        "'''\n",
        "--- 하이퍼파라미터 목록 및 설명 ---\n",
        "\n",
        "[트리 구조 및 복잡도 제어]\n",
        "* max_depth (int):\n",
        "    트리의 최대 깊이. 값이 클수록 모델이 복잡해지고 과적합(Overfitting)될 수 있음 (보통 3 ~ 10)\n",
        "* min_child_weight (int):\n",
        "    자식 노드(leaf)에 필요한 최소한의 가중치(샘플 수) 합. 과적합 제어용 (보통 1 ~ 10)\n",
        "* gamma (float):\n",
        "    트리 노드를 분할(split)하기 위한 최소 손실 감소 값. 이 값보다 손실이 적게 감소하면 분할하지 않음. 보수적인 모델링에 사용 (보통 0 ~ 0.5)\n",
        "\n",
        "[부스팅 및 학습 과정 제어]\n",
        "* learning_rate (float):\n",
        "    학습률 (eta). 각 트리의 학습 기여도를 줄여서 과적합을 방지 (보통 0.01 ~ 0.2)\n",
        "* n_estimators (int):\n",
        "    생성할 트리의 총 개수 (부스팅 라운드 횟수)\n",
        "\n",
        "[샘플링 및 과적합 방지]\n",
        "* subsample (float):\n",
        "    각 트리 학습 시 무작위로 샘플링할 훈련 데이터의 비율 (0.5 ~ 1.0)\n",
        "* colsample_bytree (float):\n",
        "    각 트리 학습 시 무작위로 샘플링할 특징(컬럼)의 비율 (0.5 ~ 1.0)\n",
        "* colsample_bylevel (float):\n",
        "    각 트리의 레벨(깊이)별로 무작위로 샘플링할 특징의 비율\n",
        "* colsample_bynode (float):\n",
        "    각 트리의 노드(분기)별로 무작위로 샘플링할 특징의 비율\n",
        "\n",
        "[정규화(Regularization)]\n",
        "* reg_alpha (float) (L1 정규화):\n",
        "    L1 정규화(Lasso) 항. 가중치의 절댓값에 페널티를 주어 일부 특징의 가중치를 0으로 만들 수 있음 (특징 선택 효과)\n",
        "* reg_lambda (float) (L2 정규화):\n",
        "    L2 정규화(Ridge) 항. 가중치의 제곱에 페널티를 주어 가중치 크기를 전반적으로 줄임\n",
        "\n",
        "[불균형 데이터셋 처리]\n",
        "* scale_pos_weight (float):\n",
        "    클래스 불균형 처리용. 양성 클래스(1)에 부여할 가중치 비율. (음성 샘플 수 / 양성 샘플 수)로 주로 설정\n",
        "'''\n",
        "\n",
        "# --- 클래스 불균형 고려 ---\n",
        "# 불균형 데이터셋에서 소수 클래스(치터=1)에 더 많은 가중치를 부여\n",
        "pos = (y_train == 1).sum()\n",
        "neg = (y_train == 0).sum()\n",
        "scale_pos_weight = neg / max(pos, 1)\n",
        "\n",
        "print(f\"클래스 불균형 비율 (scale_pos_weight): {scale_pos_weight:.2f}\")\n",
        "\n",
        "\n",
        "# --- 하이퍼파라미터 최적값 탐색 (RandomizedSearchCV) ---\n",
        "\n",
        "# 기본 모델 정의\n",
        "# 고정할 파라미터들 (목적함수, 평가 지표, 불균형 처리 등)\n",
        "base_model = xgb.XGBClassifier(\n",
        "    objective=\"binary:logistic\",\n",
        "    eval_metric=\"auc\", # RandomizedSearchCV의 scoring과 별개로, 내부 평가용\n",
        "    scale_pos_weight=scale_pos_weight,\n",
        "    random_state=42,\n",
        "    n_jobs=-1\n",
        ")\n",
        "\n",
        "# 탐색할 파라미터 범위 정의\n",
        "param_dist = {\n",
        "    'n_estimators': randint(200, 1000),        # 200 ~ 1000개 사이의 트리 개수\n",
        "    'learning_rate': uniform(0.01, 0.2),       # 0.01 ~ 0.2 사이의 학습률\n",
        "    'max_depth': randint(3, 10),               # 3 ~ 9 사이의 최대 깊이\n",
        "    'min_child_weight': randint(1, 10),        # 1 ~ 9 사이의 최소 가중치\n",
        "    'gamma': uniform(0, 0.5),                  # 0 ~ 0.5 사이의 감마값\n",
        "    'subsample': uniform(0.6, 0.4),            # 0.6 ~ 1.0 (0.6 + 0.4) 사이의 샘플 비율\n",
        "    'colsample_bytree': uniform(0.6, 0.4)      # 0.6 ~ 1.0 (0.6 + 0.4) 사이의 특징 비율\n",
        "}\n",
        "\n",
        "# RandomizedSearchCV 설정\n",
        "# n_iter: 랜덤하게 몇 개의 조합을 시도할지 (횟수가 많을수록 좋은 조합을 찾을 확률이 높음)\n",
        "# cv: 교차 검증(Cross-Validation) 폴드 수\n",
        "# scoring: 최적화할 성능 지표. 불균형 데이터이므로 'roc_auc'\n",
        "random_search = RandomizedSearchCV(\n",
        "    estimator=base_model,\n",
        "    param_distributions=param_dist,\n",
        "    n_iter=100,  # 100번의 랜덤 조합을 테스트 (시간이 오래 걸리면 50 정도로 줄이세요)\n",
        "    cv=5,        # 5-fold 교차 검증\n",
        "    scoring='roc_auc',\n",
        "    verbose=2,   # 학습 과정을 자세히 출력\n",
        "    random_state=42,\n",
        "    n_jobs=-1\n",
        ")\n",
        "\n",
        "print(\"\\n\" + \"하이퍼파라미터 탐색을 시작합니다...\")\n",
        "\n",
        "# --- 모델 학습 ---\n",
        "# X_train, y_train을 사용하여 최적의 파라미터 조합을 탐색\n",
        "random_search.fit(X_train, y_train)\n",
        "\n",
        "# --- 결과 확인 ---\n",
        "print(\"\\n\" + \"=\"*30)\n",
        "print(\"하이퍼파라미터 탐색 완료!\")\n",
        "print(f\"최고의 ROC-AUC 점수: {random_search.best_score_:.4f}\")\n",
        "print(\"최적의 하이퍼파라미터:\")\n",
        "print(random_search.best_params_)\n",
        "print(\"=\"*30)\n",
        "\n",
        "# --- 최적의 모델 저장 ---\n",
        "model = random_search.best_estimator_"
      ],
      "metadata": {
        "id": "ah5RXHfkWjZc",
        "colab": {
          "base_uri": "https://localhost:8080/"
        },
        "outputId": "c7dfda9f-fc81-4fc2-8897-0e9c7e3703d5"
      },
      "execution_count": null,
      "outputs": [
        {
          "output_type": "stream",
          "name": "stdout",
          "text": [
            "클래스 불균형 비율 (scale_pos_weight): 10.89\n",
            "\n",
            "하이퍼파라미터 탐색을 시작합니다...\n",
            "Fitting 5 folds for each of 100 candidates, totalling 500 fits\n",
            "\n",
            "==============================\n",
            "하이퍼파라미터 탐색 완료!\n",
            "최고의 ROC-AUC 점수: 0.9829\n",
            "최적의 하이퍼파라미터:\n",
            "{'colsample_bytree': np.float64(0.987032220608099), 'gamma': np.float64(0.27398594162404366), 'learning_rate': np.float64(0.09469418846162371), 'max_depth': 5, 'min_child_weight': 1, 'n_estimators': 298, 'subsample': np.float64(0.7650470707645706)}\n",
            "==============================\n"
          ]
        }
      ]
    },
    {
      "cell_type": "code",
      "source": [
        "# --- 모델을 저장할 경로 지정 ---\n",
        "model_save_path = \"/content/drive/MyDrive/Preprocessed_Dataset/\"\n",
        "model_name = \"xgboost_cheater_detection_model.json\"\n",
        "full_model_path = os.path.join(model_save_path, model_name)\n",
        "\n",
        "# --- 모델 저장 ---\n",
        "os.makedirs(model_save_path, exist_ok=True)\n",
        "model.save_model(full_model_path)\n",
        "\n",
        "print(f\"모델이 성공적으로 저장되었습니다.\")\n",
        "print(f\"저장 경로: {full_model_path}\")"
      ],
      "metadata": {
        "id": "-QKZWE0AZelL",
        "colab": {
          "base_uri": "https://localhost:8080/"
        },
        "outputId": "652dce63-2359-4fe8-9334-5e86f9daddc3"
      },
      "execution_count": null,
      "outputs": [
        {
          "output_type": "stream",
          "name": "stdout",
          "text": [
            "모델이 성공적으로 저장되었습니다.\n",
            "저장 경로: /content/drive/MyDrive/Preprocessed_Dataset/xgboost_cheater_detection_model.json\n"
          ]
        }
      ]
    },
    {
      "cell_type": "markdown",
      "source": [
        "## 모델 성능 평가"
      ],
      "metadata": {
        "id": "9MojYTLQDpnW"
      }
    },
    {
      "cell_type": "code",
      "source": [
        "# --- 예측값 생성 ---\n",
        "# predict() : 클래스(0 또는 1)를 예측 (정확도, 혼동 행렬, 분류 리포트용)\n",
        "y_pred = model.predict(X_val)\n",
        "\n",
        "# predict_proba() : 클래스별 확률을 예측. [:, 1]은 양성(1) 클래스 확률 (AUC용)\n",
        "y_pred_proba = model.predict_proba(X_val)[:, 1]\n",
        "\n",
        "# --- 정확도 (Accuracy) ---\n",
        "print(\"--- 정확도 (Accuracy) ---\")\n",
        "accuracy = accuracy_score(y_val, y_pred)\n",
        "print(f\"Accuracy: {accuracy:.4f}\")"
      ],
      "metadata": {
        "id": "LPiXjdCnDrg8",
        "colab": {
          "base_uri": "https://localhost:8080/"
        },
        "outputId": "9965ced2-6736-4fb7-ba19-bbcbbd1bcaae"
      },
      "execution_count": null,
      "outputs": [
        {
          "output_type": "stream",
          "name": "stdout",
          "text": [
            "--- 정확도 (Accuracy) ---\n",
            "Accuracy: 0.9541\n"
          ]
        }
      ]
    },
    {
      "cell_type": "code",
      "source": [
        "# --- 혼동 행렬 (Confusion Matrix) ---\n",
        "print(\"--- 혼동 행렬 (Confusion Matrix) ---\")\n",
        "cm = confusion_matrix(y_val, y_pred)\n",
        "\n",
        "# Seaborn을 사용한 히트맵 시각화\n",
        "plt.figure(figsize=(7, 5))\n",
        "sns.heatmap(cm, annot=True, fmt='d', cmap='Blues',\n",
        "            # 0: Human, 1: Cheater\n",
        "            xticklabels=['Human (0)', 'Cheater (1)'],\n",
        "            yticklabels=['Human (0)', 'Cheater (1)'])\n",
        "plt.title('Confusion Matrix')\n",
        "plt.xlabel('Predicted Label')\n",
        "plt.ylabel('True Label')\n",
        "plt.show()"
      ],
      "metadata": {
        "id": "zE7MxGEMV5VC",
        "colab": {
          "base_uri": "https://localhost:8080/",
          "height": 505
        },
        "outputId": "6f186c07-ed4d-47c7-c982-d424edfaacd9"
      },
      "execution_count": null,
      "outputs": [
        {
          "output_type": "stream",
          "name": "stdout",
          "text": [
            "--- 혼동 행렬 (Confusion Matrix) ---\n"
          ]
        },
        {
          "output_type": "display_data",
          "data": {
            "text/plain": [
              "<Figure size 700x500 with 2 Axes>"
            ],
            "image/png": "[encoded data removed]"
          },
          "metadata": {}
        }
      ]
    },
    {
      "cell_type": "code",
      "source": [
        "# --- 분류 리포트 (Classification Report) ---\n",
        "print(\"\\n--- 분류 리포트 (Classification Report) ---\")\n",
        "# 정밀도(Precision), 재현율(Recall), F1-Score 등을 한 번에 보여줌\n",
        "report = classification_report(y_val, y_pred, target_names=['Human (0)', 'Cheater (1)'])\n",
        "print(report)"
      ],
      "metadata": {
        "id": "mSNUpXaPV3om",
        "colab": {
          "base_uri": "https://localhost:8080/"
        },
        "outputId": "1946e1c0-6fb9-4941-d3de-9fec81de90ef"
      },
      "execution_count": null,
      "outputs": [
        {
          "output_type": "stream",
          "name": "stdout",
          "text": [
            "\n",
            "--- 분류 리포트 (Classification Report) ---\n",
            "              precision    recall  f1-score   support\n",
            "\n",
            "   Human (0)       0.96      0.98      0.97       936\n",
            " Cheater (1)       0.90      0.80      0.85       176\n",
            "\n",
            "    accuracy                           0.95      1112\n",
            "   macro avg       0.93      0.89      0.91      1112\n",
            "weighted avg       0.95      0.95      0.95      1112\n",
            "\n"
          ]
        }
      ]
    },
    {
      "cell_type": "code",
      "source": [
        "# --- ROC-AUC 점수 및 곡선 ---\n",
        "print(\"\\n--- ROC-AUC 점수 및 곡선 ---\")\n",
        "\n",
        "# --- ROC-AUC 점수 ---\n",
        "roc_auc = roc_auc_score(y_val, y_pred_proba)\n",
        "pr_auc = average_precision_score(y_val, y_pred_proba)\n",
        "\n",
        "print(f\"ROC-AUC: {roc_auc:.4f}\")\n",
        "print(f\"PR-AUC : {pr_auc:.4f}\\n\")\n",
        "\n",
        "# --- ROC-AUC 곡선 ---\n",
        "fpr, tpr, thresholds = roc_curve(y_val, y_pred_proba)\n",
        "\n",
        "plt.figure(figsize=(8, 6))\n",
        "plt.plot(fpr, tpr, color='darkorange', lw=2, label=f'ROC curve (Area = {roc_auc:.4f})')\n",
        "plt.plot([0, 1], [0, 1], color='navy', lw=2, linestyle='--') # 50% 수준의 랜덤 모델\n",
        "plt.xlim([0.0, 1.0])\n",
        "plt.ylim([0.0, 1.05])\n",
        "plt.xlabel('False Positive Rate')\n",
        "plt.ylabel('True Positive Rate')\n",
        "plt.title('Receiver Operating Characteristic (ROC) Curve')\n",
        "plt.legend(loc=\"lower right\")\n",
        "plt.grid(True)\n",
        "plt.show()"
      ],
      "metadata": {
        "id": "2kjs23CdV1Ev",
        "colab": {
          "base_uri": "https://localhost:8080/",
          "height": 656
        },
        "outputId": "50dca112-b5ed-4d12-89b6-931e41b2d5f3"
      },
      "execution_count": null,
      "outputs": [
        {
          "output_type": "stream",
          "name": "stdout",
          "text": [
            "\n",
            "--- ROC-AUC 점수 및 곡선 ---\n",
            "ROC-AUC: 0.9878\n",
            "PR-AUC : 0.9236\n",
            "\n"
          ]
        },
        {
          "output_type": "display_data",
          "data": {
            "text/plain": [
              "<Figure size 800x600 with 1 Axes>"
            ],
            "image/png": "[encoded data removed]"
          },
          "metadata": {}
        }
      ]
    },
    {
      "cell_type": "markdown",
      "source": [
        "## 정밀도 임계값 찾기"
      ],
      "metadata": {
        "id": "eqxnwsqMnJYp"
      }
    },
    {
      "cell_type": "code",
      "source": [
        "# --- 정밀도-재현율 곡선 계산 ---\n",
        "# thresholds[0]은 1.0이므로 제외하고 계산\n",
        "precisions, recalls, thresholds = precision_recall_curve(y_val, y_pred_proba)\n",
        "\n",
        "print(\"--- 임계값(Threshold)별 정밀도 및 FP 확인 ---\")\n",
        "\n",
        "best_threshold = 0.5\n",
        "best_recall_at_near_perfect_precision = 0.0\n",
        "\n",
        "# 0.5부터 1.0에 가까운 값까지 임계값을 높여가며 테스트\n",
        "# thresholds 배열은 0.0 ~ 1.0 사이의 값이 정렬되어 있음\n",
        "for i in range(len(thresholds)):\n",
        "    # 현재 임계값\n",
        "    threshold = thresholds[i]\n",
        "\n",
        "    # 이 임계값에서의 정밀도(Precision)\n",
        "    precision = precisions[i]\n",
        "\n",
        "    # 이 임계값에서의 재현율(Recall)\n",
        "    recall = recalls[i]\n",
        "\n",
        "    # FP = 0 (정밀도 >= 0.9999)인 지점 찾기\n",
        "    if precision >= 0.9999: # 거의 1.0 (FP=0)\n",
        "        # FP = 0이면서 재현율이 가장 높은(치터를 가장 많이 잡는) 임계값을 저장\n",
        "        if recall > best_recall_at_near_perfect_precision:\n",
        "            best_recall_at_near_perfect_precision = recall\n",
        "            best_threshold = threshold\n",
        "\n",
        "# 마지막 precision 값(항상 1.0)도 확인 필요 (thresholds 배열에는 없는 임계값에 해당)\n",
        "if precisions[-1] >= 0.9999:\n",
        "     recall = recalls[-1]\n",
        "     if recall > best_recall_at_near_perfect_precision:\n",
        "         best_recall_at_near_perfect_precision = recall\n",
        "         # 이 경우 임계값은 thresholds의 마지막 값보다 크거나 같음 (거의 1.0)\n",
        "         if len(thresholds) > 0:\n",
        "              best_threshold = thresholds[-1] # 가능한 가장 높은 임계값 사용\n",
        "\n",
        "print(f\"\\n[결과]\")\n",
        "print(f\"False Positive를 0으로 만드는 최적 임계값: {best_threshold:.4f}\")\n",
        "print(f\"  -> 이 때의 정밀도 (Precision): 1.0\")\n",
        "print(f\"  -> 이 때의 재현율 (Recall): {best_recall_at_near_perfect_precision:.4f} (즉, 전체 치터 중 {best_recall_at_near_perfect_precision*100:.2f}% 만 적발)\")\n",
        "\n",
        "# --- 해당 임계값으로 새로운 예측 생성 및 혼동 행렬 확인 ---\n",
        "print(\"\\n--- 새로운 임계값 적용 시 혼동 행렬 ---\")\n",
        "new_y_pred = (y_pred_proba >= best_threshold).astype(int)\n",
        "\n",
        "cm_new = confusion_matrix(y_val, new_y_pred)\n",
        "\n",
        "plt.figure(figsize=(7, 5))\n",
        "sns.heatmap(cm_new, annot=True, fmt='d', cmap='Blues',\n",
        "            xticklabels=['Human (0)', 'Cheater (1)'],\n",
        "            yticklabels=['Human (0)', 'Cheater (1)'])\n",
        "plt.title(f'Confusion Matrix (Threshold = {best_threshold:.4f})')\n",
        "plt.xlabel('Predicted Label')\n",
        "plt.ylabel('True Label')\n",
        "plt.show()\n",
        "\n",
        "print(\"\\n--- 높은 임계값(≈ 정밀도 1.0) 적용 시 성능 ---\")\n",
        "print(classification_report(y_val, new_y_pred, target_names=['Human (0)', 'Cheater (1)']))"
      ],
      "metadata": {
        "colab": {
          "base_uri": "https://localhost:8080/",
          "height": 836
        },
        "id": "cOR-X3Qxmy6x",
        "outputId": "e2e5efc6-4b36-40d7-aaed-c42bc3c60c25"
      },
      "execution_count": null,
      "outputs": [
        {
          "output_type": "stream",
          "name": "stdout",
          "text": [
            "--- 임계값(Threshold)별 정밀도 및 FP 확인 ---\n",
            "\n",
            "[결과]\n",
            "False Positive를 0으로 만드는 최적 임계값: 0.9989\n",
            "  -> 이 때의 정밀도 (Precision): 1.0\n",
            "  -> 이 때의 재현율 (Recall): 0.1989 (즉, 전체 치터 중 19.89% 만 적발)\n",
            "\n",
            "--- 새로운 임계값 적용 시 혼동 행렬 ---\n"
          ]
        },
        {
          "output_type": "display_data",
          "data": {
            "text/plain": [
              "<Figure size 700x500 with 2 Axes>"
            ],
            "image/png": "[encoded data removed]"
          },
          "metadata": {}
        },
        {
          "output_type": "stream",
          "name": "stdout",
          "text": [
            "\n",
            "--- 높은 임계값(≈ 정밀도 1.0) 적용 시 성능 ---\n",
            "              precision    recall  f1-score   support\n",
            "\n",
            "   Human (0)       0.87      1.00      0.93       936\n",
            " Cheater (1)       1.00      0.20      0.33       176\n",
            "\n",
            "    accuracy                           0.87      1112\n",
            "   macro avg       0.93      0.60      0.63      1112\n",
            "weighted avg       0.89      0.87      0.84      1112\n",
            "\n"
          ]
        }
      ]
    },
    {
      "cell_type": "code",
      "source": [
        "# --- 검증 데이터셋의 파일명 정보 가져오기 ---\n",
        "val_filenames = df.iloc[val_idx]['filename']\n",
        "\n",
        "# --- 평가용 DataFrame 생성 ---\n",
        "eval_df = pd.DataFrame({\n",
        "    'true_label': y_val.values,\n",
        "    'pred_orig': y_pred,                # 임계값 0.5 기준 예측 (참고용)\n",
        "    'pred_high_precision': new_y_pred,  # 높은 정밀도 임계값 기준 예측\n",
        "    'filename': val_filenames.values\n",
        "})\n",
        "\n",
        "# True Positive 조건: 실제 라벨(true_label)이 1이고, 높은 임계값 예측(pred_high_precision)도 1인 경우\n",
        "tp_mask_high_precision = (eval_df['true_label'] == 1) & (eval_df['pred_high_precision'] == 1)\n",
        "tp_video_set_high_precision = set(eval_df.loc[tp_mask_high_precision, 'filename'])\n",
        "print(f\"\\n총 {len(tp_video_set_high_precision)}개의 영상에서 높은 임계값 예측 기준 TP 조각 발견.\")\n",
        "\n",
        "# --- 최종 예측 조정 ---\n",
        "# 기본값은 높은 정밀도 예측값 사용\n",
        "eval_df['pred_final_adjusted'] = eval_df['pred_high_precision']\n",
        "\n",
        "# 높은 임계값 예측에서 TP가 있었던 영상의 모든 조각을 치터(1)로 변경\n",
        "mask_to_force_cheater_final = eval_df['filename'].isin(tp_video_set_high_precision)\n",
        "eval_df.loc[mask_to_force_cheater_final, 'pred_final_adjusted'] = 1\n",
        "\n",
        "# 최종 조정된 예측값\n",
        "y_pred_final_adjusted = eval_df['pred_final_adjusted']\n",
        "\n",
        "# --- 최종 조정 결과 평가 ---\n",
        "print(\"\\n--- 최종 조정 후 성능 ---\")\n",
        "\n",
        "# --- 정확도 ---\n",
        "accuracy_final_adjusted = accuracy_score(eval_df['true_label'], y_pred_final_adjusted)\n",
        "print(f\"\\nFinal Adjusted Accuracy: {accuracy_final_adjusted:.4f}\")\n",
        "\n",
        "# --- 혼동 행렬 ---\n",
        "print(\"\\nFinal Adjusted Confusion Matrix:\")\n",
        "cm_final_adjusted = confusion_matrix(eval_df['true_label'], y_pred_final_adjusted)\n",
        "\n",
        "plt.figure(figsize=(7, 5))\n",
        "sns.heatmap(cm_final_adjusted, annot=True, fmt='d', cmap='Blues',\n",
        "            xticklabels=['Human (0)', 'Cheater (1)'],\n",
        "            yticklabels=['Human (0)', 'Cheater (1)'])\n",
        "plt.title(f'Final Adjusted CM (High Precision)')\n",
        "plt.xlabel('Predicted Label')\n",
        "plt.ylabel('True Label')\n",
        "plt.show()\n",
        "\n",
        "# --- 분류 리포트 ---\n",
        "print(\"\\nFinal Adjusted Classification Report:\")\n",
        "report_final_adjusted = classification_report(eval_df['true_label'], y_pred_final_adjusted, target_names=['Human (0)', 'Cheater (1)'])\n",
        "print(report_final_adjusted)"
      ],
      "metadata": {
        "colab": {
          "base_uri": "https://localhost:8080/",
          "height": 836
        },
        "id": "bRTvlRcFeces",
        "outputId": "1eaba857-47ee-4459-8658-591f0b8261e5"
      },
      "execution_count": 26,
      "outputs": [
        {
          "output_type": "stream",
          "name": "stdout",
          "text": [
            "\n",
            "총 6개의 영상에서 높은 임계값 예측 기준 TP 조각 발견.\n",
            "\n",
            "--- 최종 조정 후 성능 ---\n",
            "\n",
            "Final Adjusted Accuracy: 0.9604\n",
            "\n",
            "Final Adjusted Confusion Matrix:\n"
          ]
        },
        {
          "output_type": "display_data",
          "data": {
            "text/plain": [
              "<Figure size 700x500 with 2 Axes>"
            ],
            "image/png": "[encoded data removed]"
          },
          "metadata": {}
        },
        {
          "output_type": "stream",
          "name": "stdout",
          "text": [
            "\n",
            "Final Adjusted Classification Report:\n",
            "              precision    recall  f1-score   support\n",
            "\n",
            "   Human (0)       0.96      1.00      0.98       936\n",
            " Cheater (1)       1.00      0.75      0.86       176\n",
            "\n",
            "    accuracy                           0.96      1112\n",
            "   macro avg       0.98      0.88      0.92      1112\n",
            "weighted avg       0.96      0.96      0.96      1112\n",
            "\n"
          ]
        }
      ]
    }
  ]
}