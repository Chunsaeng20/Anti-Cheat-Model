{
  "nbformat": 4,
  "nbformat_minor": 0,
  "metadata": {
    "colab": {
      "provenance": []
    },
    "kernelspec": {
      "name": "python3",
      "display_name": "Python 3"
    },
    "language_info": {
      "name": "python"
    }
  },
  "cells": [
    {
      "cell_type": "markdown",
      "source": [
        "# SHAP를 이용한 모델 예측 결과 해석\n",
        "\n",
        "SHAP 라이브러리를 사용하여 모델이 **'왜' 특정 플레이어를 치터로 판단했는지** 그 근거를 시각적으로 설명\n",
        "\n",
        "---\n",
        "\n",
        "### 주요 동작 흐름\n",
        "\n",
        "1.  **모델 및 데이터 로드**:\n",
        "    * 학습한 XGBoost 모델을 로드\n",
        "    * 분석할 대상의 데이터를 로드\n",
        "2.  **SHAP 값 계산**:\n",
        "    * 불러온 모델과 데이터를 사용하여 SHAP Explainer를 생성\n",
        "    * Explainer를 통해 각 특징이 모델 예측에 미친 영향력을 계산\n",
        "3.  **결과 분석 및 시각화**:\n",
        "    * 단일 예측에 대해 각 특징이 긍정적(치터일 확률을 높임) 또는 부정적(사람일 확률을 높임)으로 얼마나 기여했는지 시각화\n",
        "    * 전체 데이터셋에 걸쳐 어떤 특징이 전역적으로 가장 중요한 영향력을 가졌는지 시각화\n",
        "\n",
        "---\n",
        "\n",
        "### 핵심 포인트\n",
        "\n",
        "* **모델 투명성 확보**: 모델이 단순히 '치터다/아니다'라는 결과만 보여주는 것을 넘어, 어떤 특성이 그러한 판단의 결정적인 근거가 되었는지 설명\n",
        "* **시각적 근거 제시**: SHAP 플롯을 통해 모델의 복잡한 내부 동작을 직관적으로 이해할 수 있는 시각 자료를 생성"
      ],
      "metadata": {
        "id": "UAXHtkgUFC-q"
      }
    },
    {
      "cell_type": "markdown",
      "source": [
        "## 라이브러리 설치"
      ],
      "metadata": {
        "id": "hcImL1zZGrao"
      }
    },
    {
      "cell_type": "code",
      "source": [
        "!pip install shap"
      ],
      "metadata": {
        "id": "20lNrahMGtqQ"
      },
      "execution_count": null,
      "outputs": []
    },
    {
      "cell_type": "code",
      "source": [
        "import xgboost as xgb\n",
        "import pandas as pd\n",
        "import numpy as np\n",
        "import shap\n",
        "import os\n",
        "import matplotlib.pyplot as plt\n",
        "from sklearn.model_selection import train_test_split\n",
        "from google.colab import drive"
      ],
      "metadata": {
        "id": "e10wNpb_G4Wc"
      },
      "execution_count": null,
      "outputs": []
    },
    {
      "cell_type": "code",
      "source": [
        "drive.mount('/content/drive')\n",
        "\n",
        "# JavaScript 시각화를 위해 초기화 (Colab에서 필수)\n",
        "shap.initjs()"
      ],
      "metadata": {
        "id": "fPmUU8qmbR9r"
      },
      "execution_count": null,
      "outputs": []
    },
    {
      "cell_type": "markdown",
      "source": [
        "## 모델 및 데이터 로드"
      ],
      "metadata": {
        "id": "k5OK11Q8Gait"
      }
    },
    {
      "cell_type": "code",
      "source": [
        "# --- 불러올 모델의 경로 지정 ---\n",
        "model_load_path = '/content/drive/MyDrive/Preprocessed_Dataset/xgboost_cheater_detection_model.json'\n",
        "\n",
        "# --- 모델 로드 ---\n",
        "model = xgb.XGBClassifier()\n",
        "model.load_model(model_load_path)"
      ],
      "metadata": {
        "id": "T3RaT0a6GpTw"
      },
      "execution_count": null,
      "outputs": []
    },
    {
      "cell_type": "code",
      "source": [
        "# --- 불러올 데이터의 경로 지정 ---\n",
        "data_load_path = '/content/drive/MyDrive/Preprocessed_Dataset/001_data.xlsx'\n",
        "\n",
        "# --- 데이터 로드 ---\n",
        "df = pd.read_excel(data_load_path)"
      ],
      "metadata": {
        "id": "xE0NtPHiG-4U"
      },
      "execution_count": null,
      "outputs": []
    },
    {
      "cell_type": "code",
      "source": [
        "# --- 데이터 전처리 ---\n",
        "\n",
        "'''\n",
        "01_training_xgboost_model.ipynb와 동일하게 데이터 전처리를 진행\n",
        "'''\n",
        "\n",
        "X_test_df = df.drop(columns=['cheater'])\n",
        "y_test_df = df['cheater']"
      ],
      "metadata": {
        "id": "oxpz4p65Zk5n"
      },
      "execution_count": null,
      "outputs": []
    },
    {
      "cell_type": "markdown",
      "source": [
        "## SHAP 값 계산"
      ],
      "metadata": {
        "id": "x90okprbGf8A"
      }
    },
    {
      "cell_type": "code",
      "source": [
        "# --- SHAP Explainer 생성 ---\n",
        "explainer = shap.TreeExplainer(model)"
      ],
      "metadata": {
        "id": "edns5vjGGiBA"
      },
      "execution_count": null,
      "outputs": []
    },
    {
      "cell_type": "code",
      "source": [
        "# --- SHAP 값 계산 ---\n",
        "shap_values = explainer.shap_values(X_test_df)\n",
        "\n",
        "# --- SHAP Interaction 값 계산 ---\n",
        "shap_interaction_values = explainer.shap_interaction_values(X_test_df)"
      ],
      "metadata": {
        "id": "BkQHlCcwHINY"
      },
      "execution_count": null,
      "outputs": []
    },
    {
      "cell_type": "markdown",
      "source": [
        "## 결과 분석 및 시각화"
      ],
      "metadata": {
        "id": "8JbSoKP-GiYZ"
      }
    },
    {
      "cell_type": "code",
      "source": [
        "# --- 특정 영상 분석 ---\n",
        "shap.plots.waterfall(shap_values[0])\n",
        "shap.plots.force(shap_values[0])\n",
        "shap.plots.bar(shap_values[0])"
      ],
      "metadata": {
        "id": "F-U_0AwJHMR0"
      },
      "execution_count": null,
      "outputs": []
    },
    {
      "cell_type": "code",
      "source": [
        "# --- 모델 전체 경향성 분석 ---\n",
        "shap.summary_plot(shap_values[1], X_test_df)\n",
        "shap.summary_plot(shap_values[1], X_test_df, plot_type=\"bar\")\n",
        "shap.summary_plot(shap_interaction_values, X_test_df)"
      ],
      "metadata": {
        "id": "9RnpygzdHO-5"
      },
      "execution_count": null,
      "outputs": []
    }
  ]
}